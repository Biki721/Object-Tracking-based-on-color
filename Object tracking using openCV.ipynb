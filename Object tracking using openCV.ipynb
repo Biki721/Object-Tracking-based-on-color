{
 "cells": [
  {
   "cell_type": "markdown",
   "id": "e02f182c",
   "metadata": {},
   "source": [
    "# Object Tracking based on Color"
   ]
  },
  {
   "cell_type": "code",
   "execution_count": null,
   "id": "099d3661",
   "metadata": {},
   "outputs": [],
   "source": [
    "import cv2\n",
    "import imutils"
   ]
  },
  {
   "cell_type": "code",
   "execution_count": null,
   "id": "6643fd9f",
   "metadata": {},
   "outputs": [],
   "source": [
    "lower = (0,169,157)\n",
    "upper = (179,255,255)\n",
    "camera = cv2.VideoCapture(0)\n",
    "\n",
    "while True:\n",
    "    _,frame = camera.read()\n",
    "    frame = imutils.resize(frame,width = 600)\n",
    "    blurred = cv2.GaussianBlur(frame,(11,11),0)\n",
    "    hsv = cv2.cvtColor(blurred,cv2.COLOR_BGR2HSV)\n",
    "    \n",
    "    mask = cv2.inRange(hsv,lower,upper)\n",
    "    mask = cv2.erode(mask,None,iterations = 2)\n",
    "    mask = cv2.dilate(mask,None,iterations = 2)\n",
    "    \n",
    "    cnts = cv2.findContours(mask.copy(),cv2.RETR_EXTERNAL,cv2.CHAIN_APPROX_SIMPLE)[0]\n",
    "    center = None\n",
    "    if len(cnts)> 0:\n",
    "        c = max(cnts,key = cv2.contourArea)\n",
    "        ((x,y),radius) = cv2.minEnclosingCircle(c)\n",
    "        M = cv2.moments(c)\n",
    "        center = (int(M['m10'] / M['m00']), int(M['m01'] / M['m00']))\n",
    "        if radius > 10:\n",
    "            cv2.circle(frame,(int(x),int(y)),int(radius),(0,255,255),2)\n",
    "            cv2.circle(frame,center,5,(255,0,0),-1)\n",
    "            print(center,radius)\n",
    "            if radius > 250:\n",
    "                print('Stop')\n",
    "            else:\n",
    "                if center[0] < 150:\n",
    "                    print('Left')\n",
    "                elif center[0] > 450:\n",
    "                    print('Right')\n",
    "                elif center[0] < 250:\n",
    "                    print('Front')\n",
    "                else:\n",
    "                    print('Stop')\n",
    "    \n",
    "    cv2.imshow('Frame',frame)\n",
    "    key = cv2.waitKey(1) & 0xFF\n",
    "    if key == ord('q'):\n",
    "        break\n",
    "        \n",
    "camera.release()\n",
    "cv2.destroyAllWindows()\n",
    "        \n",
    "        \n",
    "    \n",
    "    "
   ]
  },
  {
   "cell_type": "code",
   "execution_count": null,
   "id": "02b3811d",
   "metadata": {},
   "outputs": [],
   "source": []
  }
 ],
 "metadata": {
  "kernelspec": {
   "display_name": "Python 3",
   "language": "python",
   "name": "python3"
  },
  "language_info": {
   "codemirror_mode": {
    "name": "ipython",
    "version": 3
   },
   "file_extension": ".py",
   "mimetype": "text/x-python",
   "name": "python",
   "nbconvert_exporter": "python",
   "pygments_lexer": "ipython3",
   "version": "3.8.8"
  }
 },
 "nbformat": 4,
 "nbformat_minor": 5
}
